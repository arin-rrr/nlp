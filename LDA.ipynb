{
  "nbformat": 4,
  "nbformat_minor": 0,
  "metadata": {
    "colab": {
      "provenance": []
    },
    "kernelspec": {
      "name": "python3",
      "display_name": "Python 3"
    },
    "language_info": {
      "name": "python"
    }
  },
  "cells": [
    {
      "cell_type": "markdown",
      "source": [
        "**Загрузка библиотек и датасета**"
      ],
      "metadata": {
        "id": "S_wuWGRcR4vl"
      }
    },
    {
      "cell_type": "code",
      "execution_count": null,
      "metadata": {
        "id": "ZQjSs-kQQz9f"
      },
      "outputs": [],
      "source": [
        "!pip install gensim scikit-learn"
      ]
    },
    {
      "cell_type": "code",
      "source": [
        "!pip install numpy==1.23.5"
      ],
      "metadata": {
        "id": "gdVp-kQHSYsl"
      },
      "execution_count": null,
      "outputs": []
    },
    {
      "cell_type": "code",
      "source": [
        "import numpy as np\n",
        "from sklearn.feature_extraction.text import CountVectorizer\n",
        "from gensim import corpora, models\n",
        "from gensim.utils import simple_preprocess"
      ],
      "metadata": {
        "id": "P3l_pu1dSBP3"
      },
      "execution_count": null,
      "outputs": []
    },
    {
      "cell_type": "code",
      "source": [
        "!pip install datasets"
      ],
      "metadata": {
        "id": "1fA3Aw9sSwRk"
      },
      "execution_count": null,
      "outputs": []
    },
    {
      "cell_type": "code",
      "source": [
        "import datasets"
      ],
      "metadata": {
        "id": "dzYh1pvXSyLD"
      },
      "execution_count": null,
      "outputs": []
    },
    {
      "cell_type": "code",
      "source": [
        "dataset_news = datasets.load_dataset(\"ag_news\")"
      ],
      "metadata": {
        "id": "Pv42oYKNS-47"
      },
      "execution_count": null,
      "outputs": []
    },
    {
      "cell_type": "code",
      "source": [
        "import random\n",
        "\n",
        "count0, count1, count2, count3 = 0, 0, 0, 0\n",
        "dataset_short_news = []\n",
        "for i in range(len(dataset_news['train'])):\n",
        "  if dataset_news['train'][i]['label'] == 0 and count0 < 2000:\n",
        "    dataset_short_news.append({'news': dataset_news['train'][i]['text'], 'label': 0})\n",
        "    count0 += 1\n",
        "  elif dataset_news['train'][i]['label'] == 1 and count1 < 2000:\n",
        "    dataset_short_news.append({'news': dataset_news['train'][i]['text'], 'label': 1})\n",
        "    count1 += 1\n",
        "  elif dataset_news['train'][i]['label'] == 2 and count2 < 2000:\n",
        "    dataset_short_news.append({'news': dataset_news['train'][i]['text'], 'label': 2})\n",
        "    count2 += 1\n",
        "  elif dataset_news['train'][i]['label'] == 3 and count3 < 2000:\n",
        "    dataset_short_news.append({'news': dataset_news['train'][i]['text'], 'label': 3})\n",
        "    count3 += 1\n",
        "\n",
        "random.shuffle(dataset_short_news)\n",
        "dataset_news = {'train': dataset_short_news[:6400], 'test': dataset_short_news[6400:]}"
      ],
      "metadata": {
        "id": "iIf3rierTVNr"
      },
      "execution_count": null,
      "outputs": []
    },
    {
      "cell_type": "code",
      "source": [
        "news_X = []\n",
        "for i in range(len(dataset_news['train'])):\n",
        "  news_X.append(dataset_news['train'][i]['news'])\n",
        "for i in range(len(dataset_news['test'])):\n",
        "  news_X.append(dataset_news['test'][i]['news'])"
      ],
      "metadata": {
        "id": "LxxRrsWlS_UV"
      },
      "execution_count": null,
      "outputs": []
    },
    {
      "cell_type": "code",
      "source": [
        "news_y = []\n",
        "for i in range(len(dataset_news['train'])):\n",
        "  news_y.append(dataset_news['train'][i]['label'])\n",
        "for i in range(len(dataset_news['test'])):\n",
        "  news_y.append(dataset_news['test'][i]['label'])"
      ],
      "metadata": {
        "id": "tK6aQ8YOTaVT"
      },
      "execution_count": null,
      "outputs": []
    },
    {
      "cell_type": "markdown",
      "source": [
        "**Токенезация текста**"
      ],
      "metadata": {
        "id": "pbTSMOBnUEFF"
      }
    },
    {
      "cell_type": "code",
      "source": [
        "token_doc = [simple_preprocess(i) for i in news_X]"
      ],
      "metadata": {
        "id": "nFuR_6sNUMk1"
      },
      "execution_count": null,
      "outputs": []
    },
    {
      "cell_type": "code",
      "source": [
        "# словарь и Bag of Words\n",
        "dictionary = corpora.Dictionary(token_doc)\n",
        "bow_corpus = [dictionary.doc2bow(doc) for doc in token_doc]"
      ],
      "metadata": {
        "id": "VND5X4NcUT1T"
      },
      "execution_count": null,
      "outputs": []
    },
    {
      "cell_type": "code",
      "source": [
        "print(f\"Всего документов: {len(bow_corpus)}\")\n",
        "print(f\"Размер словаря: {len(dictionary)}\")"
      ],
      "metadata": {
        "id": "95o59-ZQUgnW"
      },
      "execution_count": null,
      "outputs": []
    },
    {
      "cell_type": "markdown",
      "source": [
        "**Проведение эксперимента**"
      ],
      "metadata": {
        "id": "RI-cSe6_U_0R"
      }
    },
    {
      "cell_type": "code",
      "source": [
        "alpha = ['auto', 2, 1, 0.1, 0.01]\n",
        "beta = ['auto', 2, 1, 0.1, 0.01]"
      ],
      "metadata": {
        "id": "O1kSBu9GUg-z"
      },
      "execution_count": null,
      "outputs": []
    },
    {
      "cell_type": "code",
      "source": [
        "num_topics = 10\n",
        "passes = 15"
      ],
      "metadata": {
        "id": "hI9yFp8aVRDy"
      },
      "execution_count": null,
      "outputs": []
    },
    {
      "cell_type": "code",
      "source": [
        "for a in alpha:\n",
        "  for e in beta:\n",
        "    lda_model = models.LdaModel(\n",
        "    bow_corpus,\n",
        "    num_topics=num_topics,\n",
        "    id2word=dictionary,\n",
        "    alpha=a,\n",
        "    eta=e,\n",
        "    passes=passes,\n",
        "    random_state=42\n",
        "    )\n",
        "    print(f\"alpha = {a}, eta = {e}\")\n",
        "    for topic in lda_model.print_topics(num_words=10):\n",
        "        print(topic)\n",
        "    print()"
      ],
      "metadata": {
        "id": "CZzhQnkRVZEw"
      },
      "execution_count": null,
      "outputs": []
    }
  ]
}